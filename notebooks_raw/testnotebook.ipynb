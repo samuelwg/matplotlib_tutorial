{
 "metadata": {
  "name": "",
  "signature": "sha256:59db7fe657d3deafcd510090148736236e90882454bae90c66dc400e1b9dbd57"
 },
 "nbformat": 3,
 "nbformat_minor": 0,
 "worksheets": [
  {
   "cells": [
    {
     "cell_type": "heading",
     "level": 1,
     "metadata": {},
     "source": [
      "Test Notebook"
     ]
    },
    {
     "cell_type": "code",
     "collapsed": false,
     "input": [],
     "language": "python",
     "metadata": {},
     "outputs": []
    }
   ],
   "metadata": {}
  }
 ]
}