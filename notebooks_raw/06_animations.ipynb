{
 "metadata": {
  "name": "",
  "signature": "sha256:73c315b48cbe7e1b9f9c021dc3111c4ce3737d0831025d019d36edc352e4d524"
 },
 "nbformat": 3,
 "nbformat_minor": 0,
 "worksheets": [
  {
   "cells": [
    {
     "cell_type": "heading",
     "level": 1,
     "metadata": {},
     "source": [
      "Matplotlib Tutorial: 6. Animations"
     ]
    },
    {
     "cell_type": "markdown",
     "metadata": {},
     "source": [
      "Matplotlib 1.1 introduced the animation framework: the following will only\n",
      "work with this newest version.  This is a backend-independent framework for\n",
      "creating animated plots, and is very powerful (for some interesting\n",
      "examples, see the blog posts\n",
      "[here](http://jakevdp.github.com/blog/2012/08/18/matplotlib-animation-tutorial/)\n",
      "and [here](http://jakevdp.github.com/blog/2012/09/05/quantum-python/))\n",
      "\n",
      "Here we'll just create a basic example of an animated sine wave.\n",
      "\n",
      "Here it's vital that we **don't** use matplotlib inline mode, because the inline\n",
      "figures are static.\n",
      "\n",
      "A summary of which backends work with animations can be found [here](http://nbviewer.ipython.org/github/gregnordin/PythonShare/blob/master/matplotlib/matplotlib_backends_summary.ipynb). Another example notebook that shows how to use ``FuncAnimation`` can be found [here](https://github.com/gregnordin/ECEn360_W15/blob/master/notebooks/01c_standingwaves.ipynb)"
     ]
    },
    {
     "cell_type": "code",
     "collapsed": false,
     "input": [
      "import numpy as np\n",
      "from matplotlib import pyplot as plt\n",
      "from matplotlib import animation\n",
      "\n",
      "# Switch to a backend that supports FuncAnimation\n",
      "plt.switch_backend('qt4agg')\n",
      "print 'Matplotlib graphics backend in use:',plt.get_backend()"
     ],
     "language": "python",
     "metadata": {},
     "outputs": [
      {
       "output_type": "stream",
       "stream": "stdout",
       "text": [
        "Matplotlib graphics backend in use: Qt4Agg\n"
       ]
      }
     ],
     "prompt_number": 3
    },
    {
     "cell_type": "markdown",
     "metadata": {},
     "source": [
      "There are a few different ways to call the animator.  ``ArtistAnimation`` animates\n",
      "a list of artist elements, showing only one at a time.  ``TimedAnimation`` can be\n",
      "subclassed to create very flexible animations.  ``FuncAnimation`` animates using\n",
      "a user-defined function which updates the plot elements at each frame step.  We'll\n",
      "use ``FuncAnimation`` below, because it makes very clear how the animations work."
     ]
    },
    {
     "cell_type": "code",
     "collapsed": false,
     "input": [
      "# First set up the figure, the axis, and the plot element we want to animate\n",
      "fig, ax = plt.subplots()\n",
      "ax.set_xlim(0, 2)\n",
      "ax.set_ylim(-2, 2)\n",
      "\n",
      "x = np.linspace(0, 2, 1000)\n",
      "y = np.zeros_like(x)\n",
      "\n",
      "line, = ax.plot(x, y, lw=2)\n",
      "\n",
      "# initialization function: plot the background of each frame\n",
      "def init():\n",
      "    line.set_data([], [])\n",
      "    return line,\n",
      "\n",
      "# animation function.  This is called sequentially\n",
      "def animate(i):\n",
      "    y = np.sin(2 * np.pi * (x - 0.01 * i))\n",
      "    line.set_data(x, y)\n",
      "    return line,\n",
      "\n",
      "# call the animator.  blit=True means only re-draw the parts that have changed.\n",
      "anim = animation.FuncAnimation(fig, animate, init_func=init,\n",
      "                               frames=200, interval=20, blit=True)\n",
      "\n",
      "# save the animation as an mp4.  This requires ffmpeg or mencoder to be\n",
      "# installed.  The codec argument ensure that the x264 codec is used, so that\n",
      "# the video can be embedded in html5.  You may need to adjust this for\n",
      "# your system: for more information, see\n",
      "# http://matplotlib.sourceforge.net/api/animation_api.html\n",
      "#anim.save('basic_animation.mp4', fps=30, codec='libx264')\n",
      "\n",
      "plt.show()"
     ],
     "language": "python",
     "metadata": {},
     "outputs": [],
     "prompt_number": 4
    },
    {
     "cell_type": "markdown",
     "metadata": {},
     "source": [
      "**Exercise:** Modify the above code to add a second wave which travels to\n",
      "the left rather than to the right."
     ]
    }
   ],
   "metadata": {}
  }
 ]
}